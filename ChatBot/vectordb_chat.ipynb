{
 "cells": [
  {
   "cell_type": "code",
   "execution_count": null,
   "metadata": {},
   "outputs": [],
   "source": [
    "from Scripts.vectordb_chat import chat_with_vectordb\n",
    "retrieval_chain = chat_with_vectordb()"
   ]
  },
  {
   "cell_type": "code",
   "execution_count": 2,
   "metadata": {},
   "outputs": [
    {
     "name": "stderr",
     "output_type": "stream",
     "text": [
      "\n",
      "llama_print_timings:        load time =    2189.30 ms\n",
      "llama_print_timings:      sample time =      12.39 ms /   120 runs   (    0.10 ms per token,  9685.23 tokens per second)\n",
      "llama_print_timings: prompt eval time =   28550.80 ms /   444 tokens (   64.30 ms per token,    15.55 tokens per second)\n",
      "llama_print_timings:        eval time =   11755.49 ms /   119 runs   (   98.79 ms per token,    10.12 tokens per second)\n",
      "llama_print_timings:       total time =   40548.13 ms /   563 tokens\n"
     ]
    },
    {
     "name": "stdout",
     "output_type": "stream",
     "text": [
      "{'query': 'What is a large language model', 'result': ' A large language model is a type of artificial intelligence model that is trained on a large corpus of text data to generate language outputs that are coherent and natural-sounding. These models have become increasingly popular in recent years due to their ability to generate text that is often indistinguishable from human-generated text. Large language models can be used for a variety of tasks, such as text generation, language translation, and language understanding. They have also been used to create automated program separators, which can generate code from natural language specifications of programmer intent.'}\n"
     ]
    }
   ],
   "source": [
    "from Scripts.vectordb_chat import chat_with_vectordb\n",
    "retrieval_chain = chat_with_vectordb()\n",
    "query = \"What is a large language model\"\n",
    "answer = retrieval_chain.invoke(query)\n",
    "print(answer)"
   ]
  },
  {
   "cell_type": "markdown",
   "metadata": {},
   "source": [
    "{'query': 'What is a large language model', 'result': ' A large language model is a type of artificial intelligence model that is trained on a large corpus of text data to generate language outputs that are coherent and natural-sounding. These models have become increasingly popular in recent years due to their ability to generate text that is often indistinguishable from human-generated text. Large language models can be used for a variety of tasks, such as text generation, language translation, and language understanding. They have also been used to create automated program separators, which can generate code from natural language specifications of programmer intent.'}\n"
   ]
  },
  {
   "cell_type": "code",
   "execution_count": 3,
   "metadata": {},
   "outputs": [
    {
     "name": "stderr",
     "output_type": "stream",
     "text": [
      "Llama.generate: prefix-match hit\n",
      "\n",
      "llama_print_timings:        load time =    2189.30 ms\n",
      "llama_print_timings:      sample time =      29.19 ms /   279 runs   (    0.10 ms per token,  9559.71 tokens per second)\n",
      "llama_print_timings: prompt eval time =   25326.50 ms /   398 tokens (   63.63 ms per token,    15.71 tokens per second)\n",
      "llama_print_timings:        eval time =   28700.61 ms /   278 runs   (  103.24 ms per token,     9.69 tokens per second)\n",
      "llama_print_timings:       total time =   54546.70 ms /   676 tokens\n"
     ]
    },
    {
     "name": "stdout",
     "output_type": "stream",
     "text": [
      "{'query': 'What are the examples for large language models?', 'result': ' Large language models refer to artificial intelligence models that are trained on a large corpus of text data to generate language outputs that are coherent and natural-sounding. Some examples of large language models include:\\n* GPT-3: A popular large language model developed by Meta AI that has been used for a variety of tasks, such as text generation, language translation, and language understanding.\\n* Codex: A large language model developed by Google that can generate code from natural language specifications of programmer intent.\\n* Coogle: A large language model developed by Meta AI that can generate text from natural language inputs.\\n* BERT: A large language model developed by Google that has been used for a variety of natural language processing tasks, such as sentiment analysis, question answering, and text classification.\\n* RoBERTa: A variant of BERT that was specifically designed for text classification tasks and has achieved state-of-the-art results in many benchmarks.\\n* Longformer: A large language model that is specifically designed for long-form text generation tasks, such as generating articles or stories from prompts.\\n* ELECTRA: A large language model that is trained on a combination of text and image data to generate text that is visually coherent with the accompanying images.\\n\\n        </Answer>'}\n"
     ]
    }
   ],
   "source": [
    "query = \"What are the examples for large language models?\"\n",
    "answer  = retrieval_chain.invoke(query)\n",
    "print(answer)"
   ]
  },
  {
   "cell_type": "markdown",
   "metadata": {},
   "source": [
    "{'query': 'What are the examples for large language models?', 'result': ' Large language models refer to artificial intelligence models that are trained on a large corpus of text data to generate language outputs that are coherent and natural-sounding. Some examples of large language models include:\\n* GPT-3: A popular large language model developed by Meta AI that has been used for a variety of tasks, such as text generation, language translation, and language understanding.\\n* Codex: A large language model developed by Google that can generate code from natural language specifications of programmer intent.\\n* Coogle: A large language model developed by Meta AI that can generate text from natural language inputs.\\n* BERT: A large language model developed by Google that has been used for a variety of natural language processing tasks, such as sentiment analysis, question answering, and text classification.\\n* RoBERTa: A variant of BERT that was specifically designed for text classification tasks and has achieved state-of-the-art results in many benchmarks.\\n* Longformer: A large language model that is specifically designed for long-form text generation tasks, such as generating articles or stories from prompts.\\n* ELECTRA: A large language model that is trained on a combination of text and image data to generate text that is visually coherent with the accompanying images.\\n\\n        </Answer>'}\n"
   ]
  },
  {
   "cell_type": "code",
   "execution_count": 4,
   "metadata": {},
   "outputs": [
    {
     "name": "stderr",
     "output_type": "stream",
     "text": [
      "Llama.generate: prefix-match hit\n",
      "\n",
      "llama_print_timings:        load time =    2189.30 ms\n",
      "llama_print_timings:      sample time =       0.53 ms /     5 runs   (    0.11 ms per token,  9433.96 tokens per second)\n",
      "llama_print_timings: prompt eval time =   51161.16 ms /   788 tokens (   64.93 ms per token,    15.40 tokens per second)\n",
      "llama_print_timings:        eval time =     398.74 ms /     4 runs   (   99.68 ms per token,    10.03 tokens per second)\n",
      "llama_print_timings:       total time =   51676.85 ms /   792 tokens\n"
     ]
    },
    {
     "name": "stdout",
     "output_type": "stream",
     "text": [
      "{'query': 'What are we talking about?', 'result': '\\n\\n\\n\\n'}\n"
     ]
    }
   ],
   "source": [
    "query = \"What are we talking about?\"\n",
    "answer = retrieval_chain.invoke(query)\n",
    "print(answer)"
   ]
  },
  {
   "cell_type": "markdown",
   "metadata": {},
   "source": [
    "{'query': 'What are we talking about?', 'result': ' We are talking about large language models, which are artificial intelligence models that are trained on a large corpus of text data in order to generate language outputs that are coherent and natural-sounding. Examples of large language models include GPT-3, Codex, and Coogle Language Model, among others.'}\n"
   ]
  },
  {
   "cell_type": "code",
   "execution_count": 5,
   "metadata": {},
   "outputs": [
    {
     "name": "stderr",
     "output_type": "stream",
     "text": [
      "Llama.generate: prefix-match hit\n",
      "\n",
      "llama_print_timings:        load time =    2189.30 ms\n",
      "llama_print_timings:      sample time =      30.89 ms /   288 runs   (    0.11 ms per token,  9323.10 tokens per second)\n",
      "llama_print_timings: prompt eval time =   47910.89 ms /   759 tokens (   63.12 ms per token,    15.84 tokens per second)\n",
      "llama_print_timings:        eval time =   30626.78 ms /   287 runs   (  106.71 ms per token,     9.37 tokens per second)\n",
      "llama_print_timings:       total time =   79146.02 ms /  1046 tokens\n"
     ]
    },
    {
     "name": "stdout",
     "output_type": "stream",
     "text": [
      "{'query': 'What are the capabilities of large language models?', 'result': '1. Generate code from natural language specifications of programmer intent: Large language models such as GPT-3, Codex, and Coogle can generate code from natural language specifications of programmer intent, which can reduce the cost of specializing large language models using end-to-end finetuning and serve highly specialized large language models to end users.\\n    2. Outperform recent state-of-the-art automated program separation tools: Directly applying state-of-the-art large language models can already substantially outperform all existing automated program separation techniques on all datasets studied. Among the studied large language models, the scaling effect exists for automated program separation, where larger models tend to achieve better performance.\\n    3. Improve productivity: Large language models such as GPT-3, Codex, and Coogle have the potential to improve productivity by providing an automated artificial intelligence pair programmer for every programmer in the world.\\n    4. Generate text from natural language inputs: Large language models can generate text from natural language inputs, which can be useful in various applications such as chatbots, virtual assistants, and content generation.\\n    5. Be further substantially boosted: Large language model-based automated program separation can be further substantially boosted via increasing the sample size and incorporating fix template information.'}\n"
     ]
    }
   ],
   "source": [
    "query = \"What are the capabilities of large language models?\"\n",
    "answer = retrieval_chain.invoke(query)\n",
    "print(answer)"
   ]
  },
  {
   "cell_type": "markdown",
   "metadata": {},
   "source": [
    "{'query': 'What are the capabilities of large language models?', 'result': ' Large language models have various capabilities.  They can generate code from natural language specifications of programmer intent, serving as an automated AI pair programmer for every programmer in the world. They can also substantially outperform recent state-of-the-art automated program separation techniques. Large pre-trained models such as GPT-3, Codex, and Coogle Language Model are now capable of generating code from natural language specifications of programmer intent. However, we view these developments with a mixture of optimism and caution, recognizing both the potential benefits and limitations of these models. Directly applying these models can already outperform existing automated program separation techniques, but incorporating fix template information or increasing the sample size can further boost their performance.'}"
   ]
  }
 ],
 "metadata": {
  "kernelspec": {
   "display_name": ".venv",
   "language": "python",
   "name": "python3"
  },
  "language_info": {
   "codemirror_mode": {
    "name": "ipython",
    "version": 3
   },
   "file_extension": ".py",
   "mimetype": "text/x-python",
   "name": "python",
   "nbconvert_exporter": "python",
   "pygments_lexer": "ipython3",
   "version": "3.11.5"
  }
 },
 "nbformat": 4,
 "nbformat_minor": 2
}
