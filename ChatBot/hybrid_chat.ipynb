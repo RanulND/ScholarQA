{
 "cells": [
  {
   "cell_type": "code",
   "execution_count": 9,
   "metadata": {},
   "outputs": [],
   "source": [
    "from Scripts.hybrid_chat import chat_hybrid"
   ]
  },
  {
   "cell_type": "code",
   "execution_count": 10,
   "metadata": {},
   "outputs": [],
   "source": [
    "candidate_2 = [\"generate action sequences\", 'score next actions', 'generate code from natural language specifications\\\n",
    "of programmer intent', \"improve productivity by providing an automated AI pair programmer for every program\"]"
   ]
  },
  {
   "cell_type": "code",
   "execution_count": null,
   "metadata": {},
   "outputs": [],
   "source": [
    "chat_hybrid()"
   ]
  },
  {
   "cell_type": "markdown",
   "metadata": {},
   "source": [
    "'  Based on the provided answer candidates, the capabilities of large language models can be summarized as follows:\\n\n",
    "1. Generating code from natural language specifications of programmer intent: Large language models such as GPT-3, Codex, and Coogle can generate code from natural language specifications of programmer intent, which can improve productivity by providing an automated AI pair programmer for every programmer in the world (Jigsaw, 2022).\\n\n",
    "2. Automated program repair: Large language models can be used for automated program repair, which can substantially outperform recent state-of-the-art automated program separation techniques (Automated Program Repair in the Era of Large Pre-trained Language Models, 2023).\\n\n",
    "3. Increasing sample size and incorporating fix template information can further boost automated program repair (Automated Program Repair in the Era of Large Pre-trained Language Models, 2023).\\n\n",
    "4. Improving productivity: Large language models have the potential to improve productivity by providing an automated AI pair programmer for every programmer in the world (Jigsaw, 2022).\\n\n",
    "5. Analytical models: Large language models can be used to build analytical models of code, which can help in understanding the semantics of code and in generating code from natural language specifications (Jigsaw, 2022).\\n\n",
    "6. Natural languages: Large language models can handle natural languages, which can be useful in generating code from natural language specifications (Jigsaw, 2022).\\n\n",
    "7. Building analysis: Large language models can be used for building analysis, which can help in understanding the distance between different parts of a building and in generating code for automated program repair (Automated Program Repair in the Era of Large Pre-trained Language Models, 2023).\\n\n",
    "8. Syntactics: Large language models can handle syntactics, which can be useful in generating code from natural language specifications (Jigsaw, 2022).\\n\n",
    "9. Program synthesis: Large language models can be used for program synthesis, which can help in generating code from natural language specifications of programmer intent (Jigsaw, 2022).\\n\n",
    "10. Machine learning: Large language models can be used for machine learning, which can help in improving productivity by providing an automated AI pair programmer for every programmer in the world (Jigsaw, 2022).\\n\n",
    "In conclusion, large language models have various capabilities, including generating code from natural language specifications, automated program repair, improving productivity, building analysis, syntactics, program synthesis, and machine learning. These capabilities can be used in various applications, such as software development, maintenance engineering, and automated program repair.'"
   ]
  }
 ],
 "metadata": {
  "kernelspec": {
   "display_name": ".venv",
   "language": "python",
   "name": "python3"
  },
  "language_info": {
   "codemirror_mode": {
    "name": "ipython",
    "version": 3
   },
   "file_extension": ".py",
   "mimetype": "text/x-python",
   "name": "python",
   "nbconvert_exporter": "python",
   "pygments_lexer": "ipython3",
   "version": "3.11.5"
  }
 },
 "nbformat": 4,
 "nbformat_minor": 2
}
