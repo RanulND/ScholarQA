{
 "cells": [
  {
   "cell_type": "code",
<<<<<<< HEAD
   "execution_count": 82,
=======
   "execution_count": 12,
>>>>>>> origin/master
   "metadata": {},
   "outputs": [],
   "source": [
    "# get the required libraries\n",
    "import pandas as pd\n",
    "from datetime import datetime\n",
    "import re\n",
    "\n",
    "\n",
    "class Preprocssing:\n",
    "\n",
    "  def __init__(self,file, abbr):\n",
    "    self.file = file\n",
    "    self.abbr = abbr\n",
    "    self.df = pd.read_excel(file)\n",
    "    self.df.drop(columns=self.df.columns[0], axis=1, inplace=True)\n",
    "\n",
    "  # to get authors and keywords into a list into the\n",
    "  def stringsToList(self, author):\n",
    "    return [s.lower().strip() for s in author.split(\";\")]\n",
    "  \n",
    "  # change date format\n",
    "  def dateFormatter(self, date):\n",
    "      # date_obj = datetime.strptime(date, '%d-%b-%y')\n",
    "      # formatted_date = date_obj.strftime('%Y-%m-%d')\n",
    "      formatted_date = date.dt.strftime('%Y-%m-%d')\n",
    "      return formatted_date\n",
    "\n",
    "  # remove unnecessary characters\n",
    "  def removeUnwantedCharacters(self, text):\n",
    "    unwanted_chars = [';', ':', '!', \"*\", \"-\",\"_\" ]\n",
    "    pattern = r'\\b[A-Z]+\\-[0-9]+\\b' # defining the regular expression\n",
    "    technical_terms = re.findall(pattern, text)\n",
    "    words = text.split(\" \")\n",
    "    new_words = []\n",
    "    \n",
    "    # applying the match\n",
    "    for word in words:\n",
    "      if word in technical_terms:\n",
    "        new_words.append(word)\n",
    "        continue\n",
    "      for c in unwanted_chars:\n",
    "        word = word.replace(c, \" \")\n",
    "      new_words.append(word)\n",
    "\n",
    "    formatted_text = \" \".join(new_words)\n",
    "    return formatted_text\n",
    "  \n",
    "  # create a dictionary of abbreviations\n",
    "  def load_abbreviations(self):\n",
    "    abbreviations = {}\n",
    "    with open(self.abbr, 'r') as file:\n",
    "        for line in file:\n",
    "            abbreviation, full_word = line.strip().split(' - ')\n",
    "            abbreviations[abbreviation] = full_word\n",
    "    return abbreviations\n",
    "\n",
    "  # replace abbreviations with thier full form\n",
    "  def replace_abbreviations(self, text):\n",
    "      abbreviations = self.load_abbreviations()\n",
    "      for abbreviation, full_word in abbreviations.items():\n",
    "          pattern = r'\\b' + re.escape(abbreviation) + r'\\b'\n",
    "          text = re.sub(pattern, full_word, text)\n",
    "      return text\n",
    "\n",
<<<<<<< HEAD
=======
    "  # remobe unwanted characters\n",
>>>>>>> origin/master
    "  def cleaningText(self,text):\n",
    "    pattern = r'\\[\\s*[0-9]+\\s*\\]'\n",
    "    cleaned_text = re.sub(pattern,\"\",text)\n",
    "    cleaned_text = cleaned_text.replace('(',\" \").replace(\")\",\" \").replace(\",\",\"\")\n",
    "    return cleaned_text\n",
    "\n",
<<<<<<< HEAD
=======
    "  # apply all the processing steps for relevant columns\n",
>>>>>>> origin/master
    "  def apply_processing(self):\n",
    "    self.df['Abstract'] = self.df['Abstract'].apply(self.removeUnwantedCharacters)\n",
    "    self.df['Abstract'] = self.df['Abstract'].str.lower()\n",
    "    self.df['Abstract'] = self.df['Abstract'].apply(self.replace_abbreviations)\n",
    "    self.df['Abstract'] = self.df['Abstract'].apply(self.cleaningText)\n",
    "\n",
    "    self.df['Authors'] = self.df['Authors'].apply(self.stringsToList)\n",
    "    self.df['Key Words'] = self.df['Key Words'].apply(self.stringsToList)\n",
    "    # self.df['Pub Date'] = self.df['Pub Date'].apply(self.dateFormatter)\n",
    "\n",
<<<<<<< HEAD
    "    return self.df"
=======
    "    return self.df # return the df"
>>>>>>> origin/master
   ]
  },
  {
   "cell_type": "code",
<<<<<<< HEAD
   "execution_count": 83,
=======
   "execution_count": 13,
>>>>>>> origin/master
   "metadata": {},
   "outputs": [],
   "source": [
    "x= Preprocssing('data/original_df/DataSet_1.xlsx','data/abbreviations.txt')"
   ]
  },
  {
   "cell_type": "code",
<<<<<<< HEAD
   "execution_count": 84,
=======
   "execution_count": 14,
>>>>>>> origin/master
   "metadata": {},
   "outputs": [],
   "source": [
    "y=x.apply_processing()"
   ]
<<<<<<< HEAD
=======
  },
  {
   "cell_type": "code",
   "execution_count": 18,
   "metadata": {},
   "outputs": [
    {
     "data": {
      "text/plain": [
       "'knowledge based visual question answering  visual question answering  requires external knowledge beyond the image to answer the question. early studies retrieve required knowledge from explicit knowledge bases  knowledge base  which often introduces irrelevant information to the question hence restricting the performance of their models. recent works have sought to use a large language model  i.e. gpt-3   as an implicit knowledge engine to acquire the necessary knowledge for answering. despite the encouraging results achieved by these methods we argue that they have not fully activated the capacity of gpt-3 as the provided input information is insufficient. in this paper we present prophet a conceptually simple framework designed to\\xa0prompt\\xa0gpt 3 with answer heuristics for knowledge based visual question answering. specifically we first train a vanilla visual question answering model on a specific knowledge based visual question answering dataset without external knowledge. after that we extract two types of complementary answer heuristics from the model  answer candidates and answer aware examples. finally the two types of answer heuristics are encoded into the prompts to enable gpt-3 to better comprehend the task thus enhancing its capacity. prophet significantly outperforms all existing state of the art methods on two challenging knowledge based visual question answering datasets ok visual question answering and a okvqa delivering 61.1% and 55.7% accuracies on their testing sets respectively.'"
      ]
     },
     "execution_count": 18,
     "metadata": {},
     "output_type": "execute_result"
    }
   ],
   "source": [
    "y.iloc[1]['Abstract']"
   ]
  },
  {
   "cell_type": "markdown",
   "metadata": {},
   "source": [
    "'knowledge based visual question answering  visual question answering  requires external knowledge beyond the image to answer the question. early studies retrieve required knowledge from explicit knowledge bases  knowledge base  which often introduces irrelevant information to the question hence restricting the performance of their models. recent works have sought to use a large language model  i.e. gpt-3   as an implicit knowledge engine to acquire the necessary knowledge for answering. despite the encouraging results achieved by these methods we argue that they have not fully activated the capacity of gpt-3 as the provided input information is insufficient. in this paper we present prophet a conceptually simple framework designed to\\xa0prompt\\xa0gpt 3 with answer heuristics for knowledge based visual question answering. specifically we first train a vanilla visual question answering model on a specific knowledge based visual question answering dataset without external knowledge. after that we extract two types of complementary answer heuristics from the model  answer candidates and answer aware examples. finally the two types of answer heuristics are encoded into the prompts to enable gpt-3 to better comprehend the task thus enhancing its capacity. prophet significantly outperforms all existing state of the art methods on two challenging knowledge based visual question answering datasets ok visual question answering and a okvqa delivering 61.1% and 55.7% accuracies on their testing sets respectively.'"
   ]
>>>>>>> origin/master
  }
 ],
 "metadata": {
  "kernelspec": {
   "display_name": "scholarqa",
   "language": "python",
   "name": "python3"
  },
  "language_info": {
   "codemirror_mode": {
    "name": "ipython",
    "version": 3
   },
   "file_extension": ".py",
   "mimetype": "text/x-python",
   "name": "python",
   "nbconvert_exporter": "python",
   "pygments_lexer": "ipython3",
<<<<<<< HEAD
   "version": "3.12.2"
=======
   "version": "3.11.5"
>>>>>>> origin/master
  }
 },
 "nbformat": 4,
 "nbformat_minor": 2
}
